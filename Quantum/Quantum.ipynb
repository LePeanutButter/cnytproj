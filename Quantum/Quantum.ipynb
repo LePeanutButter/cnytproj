{
 "cells": [
  {
   "cell_type": "markdown",
   "metadata": {},
   "source": [
    "# First Quantum System"
   ]
  },
  {
   "cell_type": "code",
   "execution_count": null,
   "metadata": {},
   "outputs": [],
   "source": [
    "import numpy as np\n",
    "def observable_probability(array = [], position = 0):\n",
    "    is_in_array = False\n",
    "    amplitude = 0\n",
    "    for elements in array:\n",
    "        amplitud += np.abs(elements) ** 2\n",
    "        if elements == position:\n",
    "            is_in_array = True\n",
    "    if is_in_array:\n",
    "        return (np.abs(position) ** 2) / amplitude\n",
    "    return None\n",
    "\n",
    "def transition(first_array=[], second_array=[]):\n",
    "    first_array_normalized = normalize(first_array)\n",
    "    second_array_normalized = normalize(second_array)\n",
    "    bra = first_array_normalized.T.conj()\n",
    "    inner_product = np.dot(bra, second_array_normalized)\n",
    "    return np.abs(inner_product) ** 2\n",
    "\n",
    "def normalize(array=[]):\n",
    "    new_array = []\n",
    "    norm = 0\n",
    "    for element in array:\n",
    "        norm += np.abs(element)\n",
    "    for element in array:\n",
    "        new_array.append(element/norm)\n",
    "    return new_array\n",
    "\n"
   ]
  }
 ],
 "metadata": {
  "kernelspec": {
   "display_name": ".venv",
   "language": "python",
   "name": "python3"
  },
  "language_info": {
   "name": "python",
   "version": "3.11.6"
  }
 },
 "nbformat": 4,
 "nbformat_minor": 2
}
